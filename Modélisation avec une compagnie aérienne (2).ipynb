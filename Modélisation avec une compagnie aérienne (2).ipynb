{
 "cells": [
  {
   "cell_type": "code",
   "execution_count": 1,
   "metadata": {},
   "outputs": [],
   "source": [
    "# importons les librairies dont nous avons besoin.\n",
    "\n",
    "import pandas as pd\n",
    "import numpy as np\n",
    "import seaborn as sns\n",
    "import matplotlib.pyplot as plt\n",
    "plt.style.use('seaborn-muted')\n",
    "%matplotlib inline\n",
    "import math\n",
    "from sklearn import decomposition\n",
    "from sklearn.linear_model import LinearRegression\n",
    "from sklearn.model_selection import train_test_split\n",
    "from sklearn.metrics import mean_squared_error, r2_score\n",
    "from sklearn import datasets, linear_model\n",
    "from sklearn import preprocessing\n",
    "from sklearn.model_selection import GridSearchCV\n",
    "from sklearn.preprocessing import PolynomialFeatures\n",
    "from sklearn.pipeline import make_pipeline\n",
    "from sklearn.model_selection import cross_val_score\n",
    "from sklearn.model_selection import cross_val_predict"
   ]
  },
  {
   "cell_type": "code",
   "execution_count": 2,
   "metadata": {},
   "outputs": [],
   "source": [
    "data = pd.read_csv(\"clean_data.csv\")\n",
    "save = data"
   ]
  },
  {
   "cell_type": "code",
   "execution_count": 3,
   "metadata": {},
   "outputs": [
    {
     "data": {
      "text/html": [
       "<div>\n",
       "<style scoped>\n",
       "    .dataframe tbody tr th:only-of-type {\n",
       "        vertical-align: middle;\n",
       "    }\n",
       "\n",
       "    .dataframe tbody tr th {\n",
       "        vertical-align: top;\n",
       "    }\n",
       "\n",
       "    .dataframe thead th {\n",
       "        text-align: right;\n",
       "    }\n",
       "</style>\n",
       "<table border=\"1\" class=\"dataframe\">\n",
       "  <thead>\n",
       "    <tr style=\"text-align: right;\">\n",
       "      <th></th>\n",
       "      <th>MONTH</th>\n",
       "      <th>DAY_OF_MONTH</th>\n",
       "      <th>DAY_OF_WEEK</th>\n",
       "      <th>TAIL_NUM</th>\n",
       "      <th>FL_NUM</th>\n",
       "      <th>ORIGIN_AIRPORT_ID</th>\n",
       "      <th>DEST_AIRPORT_ID</th>\n",
       "      <th>DEP_TIME</th>\n",
       "      <th>ARR_TIME</th>\n",
       "      <th>ARR_DELAY_NEW</th>\n",
       "      <th>AIR_TIME</th>\n",
       "      <th>DEP_0_280</th>\n",
       "      <th>ARR_0_220</th>\n",
       "      <th>AIR_0_360</th>\n",
       "      <th>DEP_0_280_TIME</th>\n",
       "      <th>ARR_0_220_TIME</th>\n",
       "      <th>AIR_0_360_TIME</th>\n",
       "    </tr>\n",
       "  </thead>\n",
       "  <tbody>\n",
       "    <tr>\n",
       "      <th>0</th>\n",
       "      <td>1</td>\n",
       "      <td>1</td>\n",
       "      <td>5</td>\n",
       "      <td>N537AS</td>\n",
       "      <td>821</td>\n",
       "      <td>14057</td>\n",
       "      <td>12982</td>\n",
       "      <td>616</td>\n",
       "      <td>874</td>\n",
       "      <td>0.0</td>\n",
       "      <td>359.0</td>\n",
       "      <td>0</td>\n",
       "      <td>0</td>\n",
       "      <td>0</td>\n",
       "      <td>616</td>\n",
       "      <td>874</td>\n",
       "      <td>359.0</td>\n",
       "    </tr>\n",
       "    <tr>\n",
       "      <th>1</th>\n",
       "      <td>1</td>\n",
       "      <td>1</td>\n",
       "      <td>5</td>\n",
       "      <td>N592AS</td>\n",
       "      <td>822</td>\n",
       "      <td>13830</td>\n",
       "      <td>14057</td>\n",
       "      <td>1300</td>\n",
       "      <td>279</td>\n",
       "      <td>0.0</td>\n",
       "      <td>283.0</td>\n",
       "      <td>0</td>\n",
       "      <td>0</td>\n",
       "      <td>1</td>\n",
       "      <td>1300</td>\n",
       "      <td>279</td>\n",
       "      <td>0.0</td>\n",
       "    </tr>\n",
       "    <tr>\n",
       "      <th>2</th>\n",
       "      <td>1</td>\n",
       "      <td>1</td>\n",
       "      <td>5</td>\n",
       "      <td>N531AS</td>\n",
       "      <td>823</td>\n",
       "      <td>14893</td>\n",
       "      <td>13830</td>\n",
       "      <td>573</td>\n",
       "      <td>795</td>\n",
       "      <td>0.0</td>\n",
       "      <td>327.0</td>\n",
       "      <td>0</td>\n",
       "      <td>0</td>\n",
       "      <td>1</td>\n",
       "      <td>573</td>\n",
       "      <td>795</td>\n",
       "      <td>0.0</td>\n",
       "    </tr>\n",
       "    <tr>\n",
       "      <th>3</th>\n",
       "      <td>1</td>\n",
       "      <td>1</td>\n",
       "      <td>5</td>\n",
       "      <td>N531AS</td>\n",
       "      <td>823</td>\n",
       "      <td>14747</td>\n",
       "      <td>14893</td>\n",
       "      <td>381</td>\n",
       "      <td>499</td>\n",
       "      <td>0.0</td>\n",
       "      <td>87.0</td>\n",
       "      <td>0</td>\n",
       "      <td>0</td>\n",
       "      <td>1</td>\n",
       "      <td>381</td>\n",
       "      <td>499</td>\n",
       "      <td>0.0</td>\n",
       "    </tr>\n",
       "    <tr>\n",
       "      <th>4</th>\n",
       "      <td>1</td>\n",
       "      <td>1</td>\n",
       "      <td>5</td>\n",
       "      <td>N557AS</td>\n",
       "      <td>826</td>\n",
       "      <td>12758</td>\n",
       "      <td>13796</td>\n",
       "      <td>975</td>\n",
       "      <td>1362</td>\n",
       "      <td>0.0</td>\n",
       "      <td>250.0</td>\n",
       "      <td>0</td>\n",
       "      <td>0</td>\n",
       "      <td>1</td>\n",
       "      <td>975</td>\n",
       "      <td>1362</td>\n",
       "      <td>0.0</td>\n",
       "    </tr>\n",
       "  </tbody>\n",
       "</table>\n",
       "</div>"
      ],
      "text/plain": [
       "   MONTH  DAY_OF_MONTH  DAY_OF_WEEK TAIL_NUM  FL_NUM  ORIGIN_AIRPORT_ID  \\\n",
       "0      1             1            5   N537AS     821              14057   \n",
       "1      1             1            5   N592AS     822              13830   \n",
       "2      1             1            5   N531AS     823              14893   \n",
       "3      1             1            5   N531AS     823              14747   \n",
       "4      1             1            5   N557AS     826              12758   \n",
       "\n",
       "   DEST_AIRPORT_ID  DEP_TIME  ARR_TIME  ARR_DELAY_NEW  AIR_TIME  DEP_0_280  \\\n",
       "0            12982       616       874            0.0     359.0          0   \n",
       "1            14057      1300       279            0.0     283.0          0   \n",
       "2            13830       573       795            0.0     327.0          0   \n",
       "3            14893       381       499            0.0      87.0          0   \n",
       "4            13796       975      1362            0.0     250.0          0   \n",
       "\n",
       "   ARR_0_220  AIR_0_360  DEP_0_280_TIME  ARR_0_220_TIME  AIR_0_360_TIME  \n",
       "0          0          0             616             874           359.0  \n",
       "1          0          1            1300             279             0.0  \n",
       "2          0          1             573             795             0.0  \n",
       "3          0          1             381             499             0.0  \n",
       "4          0          1             975            1362             0.0  "
      ]
     },
     "execution_count": 3,
     "metadata": {},
     "output_type": "execute_result"
    }
   ],
   "source": [
    "data.head()"
   ]
  },
  {
   "cell_type": "markdown",
   "metadata": {},
   "source": [
    "Convertissons tour à tour les variables de notre dataset en dummies et regardons les effets que cela a sur sa taille et sur nos prédictions. Afin d'effectuer nos tests dans les mêmes conditions fixons le random state de notre split à 0."
   ]
  },
  {
   "cell_type": "code",
   "execution_count": 4,
   "metadata": {},
   "outputs": [
    {
     "name": "stdout",
     "output_type": "stream",
     "text": [
      "(165641, 757)\n",
      "Mean squared error: 6053423.78\n",
      "(165641, 825)\n",
      "Mean squared error: 3148943.61\n",
      "(165641, 893)\n",
      "Mean squared error: 19.65\n",
      "(165641, 905)\n",
      "Mean squared error: 19.59\n",
      "(165641, 912)\n",
      "Mean squared error: 19.58\n",
      "(165641, 943)\n",
      "Mean squared error: 19.57\n",
      "(165641, 1108)\n",
      "Mean squared error: 19.57\n"
     ]
    }
   ],
   "source": [
    "all_columns = [\"FL_NUM\", 'ORIGIN_AIRPORT_ID', 'DEST_AIRPORT_ID', \"MONTH\", \"DAY_OF_WEEK\", \"DAY_OF_MONTH\", \"TAIL_NUM\"]\n",
    "columns = []\n",
    "for column in all_columns:\n",
    "    data = save\n",
    "    columns.append(column)\n",
    "    data = pd.get_dummies(data, columns=columns)\n",
    "    data = data.drop(columns=list(set(all_columns) - set(columns)), axis=1)\n",
    "    print(data.shape)\n",
    "    xtrain, xtest, ytrain, ytest = train_test_split(data.loc[:, data.columns != 'ARR_DELAY_NEW'], data[[\"ARR_DELAY_NEW\"]], test_size=0.2, random_state=0)\n",
    "    regr = LinearRegression()\n",
    "    regr.fit(xtrain, ytrain)\n",
    "    ypred = regr.predict(xtest)\n",
    "    print(\"Mean squared error: %.2f\"% math.sqrt(mean_squared_error(ytest, ypred)))"
   ]
  },
  {
   "cell_type": "markdown",
   "metadata": {},
   "source": [
    "Les meilleurs résultats sont obtenus avec 943 colonnes lorsque toutes nos variables ont été utilisées sauf TAIL_NUM.\n",
    "Analysons les coefficients afin de comprendre ce qui peut influer sur la prédiction de nos retards."
   ]
  },
  {
   "cell_type": "code",
   "execution_count": 5,
   "metadata": {},
   "outputs": [
    {
     "data": {
      "text/html": [
       "<div>\n",
       "<style scoped>\n",
       "    .dataframe tbody tr th:only-of-type {\n",
       "        vertical-align: middle;\n",
       "    }\n",
       "\n",
       "    .dataframe tbody tr th {\n",
       "        vertical-align: top;\n",
       "    }\n",
       "\n",
       "    .dataframe thead th {\n",
       "        text-align: right;\n",
       "    }\n",
       "</style>\n",
       "<table border=\"1\" class=\"dataframe\">\n",
       "  <thead>\n",
       "    <tr style=\"text-align: right;\">\n",
       "      <th></th>\n",
       "      <th>DEP_TIME</th>\n",
       "      <th>ARR_TIME</th>\n",
       "      <th>AIR_TIME</th>\n",
       "      <th>DEP_0_280</th>\n",
       "      <th>ARR_0_220</th>\n",
       "      <th>AIR_0_360</th>\n",
       "      <th>DEP_0_280_TIME</th>\n",
       "      <th>ARR_0_220_TIME</th>\n",
       "      <th>AIR_0_360_TIME</th>\n",
       "      <th>FL_NUM_1</th>\n",
       "      <th>...</th>\n",
       "      <th>TAIL_NUM_N779AS</th>\n",
       "      <th>TAIL_NUM_N788AS</th>\n",
       "      <th>TAIL_NUM_N791AS</th>\n",
       "      <th>TAIL_NUM_N792AS</th>\n",
       "      <th>TAIL_NUM_N793AS</th>\n",
       "      <th>TAIL_NUM_N794AS</th>\n",
       "      <th>TAIL_NUM_N795AS</th>\n",
       "      <th>TAIL_NUM_N796AS</th>\n",
       "      <th>TAIL_NUM_N797AS</th>\n",
       "      <th>TAIL_NUM_N799AS</th>\n",
       "    </tr>\n",
       "  </thead>\n",
       "  <tbody>\n",
       "    <tr>\n",
       "      <th>55505</th>\n",
       "      <td>1275</td>\n",
       "      <td>1395</td>\n",
       "      <td>89.0</td>\n",
       "      <td>0</td>\n",
       "      <td>0</td>\n",
       "      <td>1</td>\n",
       "      <td>1275</td>\n",
       "      <td>1395</td>\n",
       "      <td>0.0</td>\n",
       "      <td>0</td>\n",
       "      <td>...</td>\n",
       "      <td>0</td>\n",
       "      <td>0</td>\n",
       "      <td>0</td>\n",
       "      <td>0</td>\n",
       "      <td>0</td>\n",
       "      <td>0</td>\n",
       "      <td>0</td>\n",
       "      <td>0</td>\n",
       "      <td>0</td>\n",
       "      <td>0</td>\n",
       "    </tr>\n",
       "    <tr>\n",
       "      <th>60493</th>\n",
       "      <td>454</td>\n",
       "      <td>628</td>\n",
       "      <td>334.0</td>\n",
       "      <td>0</td>\n",
       "      <td>0</td>\n",
       "      <td>1</td>\n",
       "      <td>454</td>\n",
       "      <td>628</td>\n",
       "      <td>0.0</td>\n",
       "      <td>0</td>\n",
       "      <td>...</td>\n",
       "      <td>0</td>\n",
       "      <td>0</td>\n",
       "      <td>0</td>\n",
       "      <td>0</td>\n",
       "      <td>0</td>\n",
       "      <td>0</td>\n",
       "      <td>0</td>\n",
       "      <td>0</td>\n",
       "      <td>0</td>\n",
       "      <td>0</td>\n",
       "    </tr>\n",
       "    <tr>\n",
       "      <th>57102</th>\n",
       "      <td>537</td>\n",
       "      <td>690</td>\n",
       "      <td>128.0</td>\n",
       "      <td>0</td>\n",
       "      <td>0</td>\n",
       "      <td>1</td>\n",
       "      <td>537</td>\n",
       "      <td>690</td>\n",
       "      <td>0.0</td>\n",
       "      <td>0</td>\n",
       "      <td>...</td>\n",
       "      <td>0</td>\n",
       "      <td>0</td>\n",
       "      <td>0</td>\n",
       "      <td>0</td>\n",
       "      <td>0</td>\n",
       "      <td>0</td>\n",
       "      <td>0</td>\n",
       "      <td>0</td>\n",
       "      <td>0</td>\n",
       "      <td>0</td>\n",
       "    </tr>\n",
       "    <tr>\n",
       "      <th>40725</th>\n",
       "      <td>581</td>\n",
       "      <td>726</td>\n",
       "      <td>304.0</td>\n",
       "      <td>0</td>\n",
       "      <td>0</td>\n",
       "      <td>1</td>\n",
       "      <td>581</td>\n",
       "      <td>726</td>\n",
       "      <td>0.0</td>\n",
       "      <td>0</td>\n",
       "      <td>...</td>\n",
       "      <td>0</td>\n",
       "      <td>0</td>\n",
       "      <td>0</td>\n",
       "      <td>0</td>\n",
       "      <td>0</td>\n",
       "      <td>0</td>\n",
       "      <td>0</td>\n",
       "      <td>0</td>\n",
       "      <td>0</td>\n",
       "      <td>0</td>\n",
       "    </tr>\n",
       "    <tr>\n",
       "      <th>64986</th>\n",
       "      <td>450</td>\n",
       "      <td>577</td>\n",
       "      <td>290.0</td>\n",
       "      <td>0</td>\n",
       "      <td>0</td>\n",
       "      <td>1</td>\n",
       "      <td>450</td>\n",
       "      <td>577</td>\n",
       "      <td>0.0</td>\n",
       "      <td>0</td>\n",
       "      <td>...</td>\n",
       "      <td>0</td>\n",
       "      <td>0</td>\n",
       "      <td>0</td>\n",
       "      <td>0</td>\n",
       "      <td>0</td>\n",
       "      <td>0</td>\n",
       "      <td>0</td>\n",
       "      <td>0</td>\n",
       "      <td>0</td>\n",
       "      <td>0</td>\n",
       "    </tr>\n",
       "  </tbody>\n",
       "</table>\n",
       "<p>5 rows × 1107 columns</p>\n",
       "</div>"
      ],
      "text/plain": [
       "       DEP_TIME  ARR_TIME  AIR_TIME  DEP_0_280  ARR_0_220  AIR_0_360  \\\n",
       "55505      1275      1395      89.0          0          0          1   \n",
       "60493       454       628     334.0          0          0          1   \n",
       "57102       537       690     128.0          0          0          1   \n",
       "40725       581       726     304.0          0          0          1   \n",
       "64986       450       577     290.0          0          0          1   \n",
       "\n",
       "       DEP_0_280_TIME  ARR_0_220_TIME  AIR_0_360_TIME  FL_NUM_1  \\\n",
       "55505            1275            1395             0.0         0   \n",
       "60493             454             628             0.0         0   \n",
       "57102             537             690             0.0         0   \n",
       "40725             581             726             0.0         0   \n",
       "64986             450             577             0.0         0   \n",
       "\n",
       "            ...         TAIL_NUM_N779AS  TAIL_NUM_N788AS  TAIL_NUM_N791AS  \\\n",
       "55505       ...                       0                0                0   \n",
       "60493       ...                       0                0                0   \n",
       "57102       ...                       0                0                0   \n",
       "40725       ...                       0                0                0   \n",
       "64986       ...                       0                0                0   \n",
       "\n",
       "       TAIL_NUM_N792AS  TAIL_NUM_N793AS  TAIL_NUM_N794AS  TAIL_NUM_N795AS  \\\n",
       "55505                0                0                0                0   \n",
       "60493                0                0                0                0   \n",
       "57102                0                0                0                0   \n",
       "40725                0                0                0                0   \n",
       "64986                0                0                0                0   \n",
       "\n",
       "       TAIL_NUM_N796AS  TAIL_NUM_N797AS  TAIL_NUM_N799AS  \n",
       "55505                0                0                0  \n",
       "60493                0                0                0  \n",
       "57102                0                0                0  \n",
       "40725                0                0                0  \n",
       "64986                0                0                0  \n",
       "\n",
       "[5 rows x 1107 columns]"
      ]
     },
     "execution_count": 5,
     "metadata": {},
     "output_type": "execute_result"
    }
   ],
   "source": [
    "xtrain.head()"
   ]
  },
  {
   "cell_type": "code",
   "execution_count": 6,
   "metadata": {},
   "outputs": [
    {
     "data": {
      "text/plain": [
       "[0.4401438556234894,\n",
       " 0.25387467277806425,\n",
       " 0.2208849068158672,\n",
       " 153.97542401490813,\n",
       " 90.39804518965592,\n",
       " 111.13182670325295,\n",
       " -0.33828591537680097,\n",
       " -0.20739422591041645,\n",
       " 0.30756927106061127,\n",
       " 38.02522580659736,\n",
       " -15.183435249030284,\n",
       " -54.00869452012523,\n",
       " 36.429890580217204,\n",
       " 53.45539259836068,\n",
       " -68.42774090320735]"
      ]
     },
     "execution_count": 6,
     "metadata": {},
     "output_type": "execute_result"
    }
   ],
   "source": [
    "list(regr.coef_[0][0:15])"
   ]
  },
  {
   "cell_type": "markdown",
   "metadata": {},
   "source": [
    "On voit ici l'importance de nos variables booléennes dont les coefficients sont très élevés. Les numéros de vol semblent également avoir une importance notable ici."
   ]
  },
  {
   "cell_type": "markdown",
   "metadata": {},
   "source": [
    "Continuons donc avec ce modèle et regardons s'il est possible de l'améliorer."
   ]
  },
  {
   "cell_type": "code",
   "execution_count": 7,
   "metadata": {},
   "outputs": [],
   "source": [
    "save = save.drop(columns=[\"TAIL_NUM\"], axis=1)\n",
    "data = save\n",
    "data = pd.get_dummies(data, columns=[\"FL_NUM\", 'ORIGIN_AIRPORT_ID', 'DEST_AIRPORT_ID', \"MONTH\", \"DAY_OF_WEEK\", \"DAY_OF_MONTH\"])\n",
    "dummies_data = data"
   ]
  },
  {
   "cell_type": "markdown",
   "metadata": {},
   "source": [
    "# Modèles avec dummies\n"
   ]
  },
  {
   "cell_type": "markdown",
   "metadata": {},
   "source": [
    "## Supression des outliers\n",
    "\n",
    "Essayons maintenant de voir ce que peut apporter la suppression des outliers. "
   ]
  },
  {
   "cell_type": "code",
   "execution_count": 8,
   "metadata": {},
   "outputs": [],
   "source": [
    "data = dummies_data\n",
    "xtrain, xtest, ytrain, ytest = train_test_split(data.loc[:, data.columns != 'ARR_DELAY_NEW'], \n",
    "                                                data[[\"ARR_DELAY_NEW\"]], test_size=0.2, random_state=0)"
   ]
  },
  {
   "cell_type": "code",
   "execution_count": 9,
   "metadata": {},
   "outputs": [],
   "source": [
    "train = pd.merge(xtrain, ytrain, left_index=True, right_index=True)\n",
    "mean = train[\"ARR_DELAY_NEW\"].mean()\n",
    "std = train[\"ARR_DELAY_NEW\"].std()\n",
    "train = train[train[\"ARR_DELAY_NEW\"] < mean + 5 * std]\n",
    "xtrain = train.loc[:, train.columns != \"ARR_DELAY_NEW\"]\n",
    "ytrain = train.loc[:, \"ARR_DELAY_NEW\"]"
   ]
  },
  {
   "cell_type": "code",
   "execution_count": 10,
   "metadata": {},
   "outputs": [
    {
     "name": "stdout",
     "output_type": "stream",
     "text": [
      "Root Mean Squared Error: 20.28\n"
     ]
    }
   ],
   "source": [
    "regr = LinearRegression()\n",
    "regr.fit(xtrain, ytrain)\n",
    "ypred = regr.predict(xtest)\n",
    "print(\"Root Mean Squared Error: %.2f\"% math.sqrt(mean_squared_error(ytest, ypred)))"
   ]
  },
  {
   "cell_type": "markdown",
   "metadata": {},
   "source": [
    "La suppression des outliers ne nne semble pas bénéfique à notre modèle.\n",
    "\n",
    "## Regression Ridge\n",
    "\n",
    "Analysons désormais l'efficacité d'une régression Ridge."
   ]
  },
  {
   "cell_type": "code",
   "execution_count": 11,
   "metadata": {},
   "outputs": [],
   "source": [
    "data = dummies_data\n",
    "xtrain, xtest, ytrain, ytest = train_test_split(data.loc[:, data.columns != 'ARR_DELAY_NEW'], data[[\"ARR_DELAY_NEW\"]], test_size=0.2, random_state=0)"
   ]
  },
  {
   "cell_type": "code",
   "execution_count": 12,
   "metadata": {},
   "outputs": [
    {
     "name": "stdout",
     "output_type": "stream",
     "text": [
      "Root Mean Squared error: 19.57\n"
     ]
    }
   ],
   "source": [
    "lr = linear_model.LinearRegression()\n",
    "lr.fit(xtrain,ytrain)\n",
    "baseline_error = np.mean((lr.predict(xtest) - ytest) ** 2).values[0]\n",
    "print(\"Root Mean Squared error: %.2f\"% math.sqrt(baseline_error))"
   ]
  },
  {
   "cell_type": "code",
   "execution_count": 13,
   "metadata": {},
   "outputs": [],
   "source": [
    "alphas = [0.00001, 0.0001, 0.001, 0.01, 0.1, 1]\n",
    "errors = []\n",
    "ridge = linear_model.Ridge()\n",
    "for a in alphas:\n",
    "    ridge.set_params(alpha=a)\n",
    "    ridge.fit(xtrain, ytrain)\n",
    "    errors.append([baseline_error, np.mean((ridge.predict(xtest) - ytest) ** 2).values[0]])"
   ]
  },
  {
   "cell_type": "code",
   "execution_count": 14,
   "metadata": {},
   "outputs": [
    {
     "data": {
      "image/png": "[encoded data removed]",
      "text/plain": [
       "<matplotlib.figure.Figure at 0x10fd96748>"
      ]
     },
     "metadata": {},
     "output_type": "display_data"
    }
   ],
   "source": [
    "ax = plt.gca()\n",
    "\n",
    "ax.plot(alphas, errors)\n",
    "ax.set_xscale('log')\n",
    "plt.xlabel('alpha')\n",
    "plt.ylabel('error')\n",
    "plt.axis('tight')\n",
    "plt.show()"
   ]
  },
  {
   "cell_type": "markdown",
   "metadata": {},
   "source": [
    "Du fait du nombre de colonnes la régression Ridge est assez longue et on remarque ici qu'elle n'apporte pas d'amélioration notable. \n",
    "\n",
    "# Modèles avec mean encoding\n",
    "\n",
    "## Régression polynomiale\n",
    "\n",
    "Tentons une nouvelle approche utilisant une régression polynomiale. Pour cela nous devons réduire grandement notre jeu de données : utilisons à cet effet du mean encoding. Supprimons les colonnes FL_NUM, DEST_AIRPORT_ID et ORIGIN_AIRPORT_ID qui comportent trop de valeurs différentes et risqueraient de perturber notre mean encoding."
   ]
  },
  {
   "cell_type": "code",
   "execution_count": 15,
   "metadata": {},
   "outputs": [],
   "source": [
    "data = save\n",
    "data = data.drop(columns=[\"FL_NUM\", \"DEST_AIRPORT_ID\", \"ORIGIN_AIRPORT_ID\"], axis=1)\n",
    "xtrain, xtest, ytrain, ytest = train_test_split(data.loc[:, data.columns != 'ARR_DELAY_NEW'], data[[\"ARR_DELAY_NEW\"]], test_size=0.2, random_state=0)\n",
    "train = pd.merge(xtrain, ytrain, right_index=True, left_index=True)"
   ]
  },
  {
   "cell_type": "code",
   "execution_count": 16,
   "metadata": {},
   "outputs": [],
   "source": [
    "columns = data.loc[:, \"MONTH\":\"DAY_OF_WEEK\"].columns\n",
    "for column in columns:\n",
    "    items = train.groupby(column).mean()[\"ARR_DELAY_NEW\"].to_dict()\n",
    "    for key, value in items.items():\n",
    "        train.loc[train[column] == key, column] = value\n",
    "        xtest.loc[xtest[column] == key, column] = value"
   ]
  },
  {
   "cell_type": "code",
   "execution_count": 17,
   "metadata": {},
   "outputs": [],
   "source": [
    "xtrain = train.loc[:, train.columns != \"ARR_DELAY_NEW\"]\n",
    "ytrain = train[[\"ARR_DELAY_NEW\"]]"
   ]
  },
  {
   "cell_type": "code",
   "execution_count": 18,
   "metadata": {},
   "outputs": [
    {
     "name": "stdout",
     "output_type": "stream",
     "text": [
      "Root Mean Squared Error: 21.49 with degree 2\n",
      "Root Mean Squared Error: 20.89 with degree 3\n",
      "Root Mean Squared Error: 178.76 with degree 4\n"
     ]
    }
   ],
   "source": [
    "for degree in [2, 3, 4]:\n",
    "    model = make_pipeline(PolynomialFeatures(degree), linear_model.Ridge())\n",
    "    model.fit(xtrain, ytrain)\n",
    "    print(\"Root Mean Squared Error: %.2f with degree %s\"% (math.sqrt(np.mean((model.predict(xtest) - ytest) ** 2)), degree))"
   ]
  },
  {
   "cell_type": "markdown",
   "metadata": {},
   "source": [
    "Les régressions polynomiales de degré 2 et 3 apportent des résultats  meilleurs. Regardons si l'ajout de alphas ne permet pas d'améliorer nos résultats."
   ]
  },
  {
   "cell_type": "code",
   "execution_count": 19,
   "metadata": {},
   "outputs": [
    {
     "name": "stdout",
     "output_type": "stream",
     "text": [
      "Root Mean Squared Error: 21.48 with degree 2 and alpha 0.0001\n",
      "Root Mean Squared Error: 21.48 with degree 2 and alpha 0.001\n",
      "Root Mean Squared Error: 21.48 with degree 2 and alpha 0.01\n",
      "Root Mean Squared Error: 21.48 with degree 2 and alpha 0.1\n",
      "Root Mean Squared Error: 21.49 with degree 2 and alpha 1\n",
      "Root Mean Squared Error: 20.95 with degree 3 and alpha 0.0001\n",
      "Root Mean Squared Error: 20.94 with degree 3 and alpha 0.001\n",
      "Root Mean Squared Error: 20.91 with degree 3 and alpha 0.01\n",
      "Root Mean Squared Error: 20.89 with degree 3 and alpha 0.1\n",
      "Root Mean Squared Error: 20.89 with degree 3 and alpha 1\n"
     ]
    }
   ],
   "source": [
    "alphas = [0.0001, 0.001, 0.01, 0.1, 1]\n",
    "for degree in [2, 3]:\n",
    "    for alpha in alphas:\n",
    "        model = make_pipeline(PolynomialFeatures(degree), linear_model.Ridge(alpha=alpha))\n",
    "        model.fit(xtrain, ytrain)\n",
    "        print(\"Root Mean Squared Error: %.2f with degree %s and alpha %s\"% (math.sqrt(np.mean((model.predict(xtest) - ytest) ** 2)), degree, alpha))"
   ]
  },
  {
   "cell_type": "markdown",
   "metadata": {},
   "source": [
    "La régression polynomiale de degré 3 avec un alpha de 1 est celle qui nous apporte les meilleurs résultats ici. Regardons si la normalisation des données peut nous aider à améliorer encore cela."
   ]
  },
  {
   "cell_type": "markdown",
   "metadata": {},
   "source": [
    "## Normalisation\n",
    "\n",
    "Nous choisissons ici la normalisation devant la standardisation puisque nous ne voulons que des variables positives."
   ]
  },
  {
   "cell_type": "code",
   "execution_count": 20,
   "metadata": {},
   "outputs": [],
   "source": [
    "columns = [\"MONTH\",\"DAY_OF_MONTH\",\"DAY_OF_WEEK\", \"DEP_TIME\", \"ARR_TIME\", \"AIR_TIME\", \"DEP_0_280_TIME\", \n",
    "           \"ARR_0_220_TIME\", \"AIR_0_360_TIME\"]\n",
    "xtrain, xtest, ytrain ,ytest = train_test_split(data.loc[:, data.columns != 'ARR_DELAY_NEW'], data[[\"ARR_DELAY_NEW\"]],\n",
    "                                                test_size=0.2, random_state=0)\n",
    "train = pd.merge(xtrain, ytrain, right_index=True, left_index=True)\n",
    "min_max_scaler = preprocessing.MinMaxScaler()\n",
    "train.loc[:, columns] = min_max_scaler.fit_transform(train.loc[:, columns])\n",
    "xtest.loc[:, columns] = min_max_scaler.transform(xtest.loc[:, columns])\n",
    "xtrain = train.loc[:, train.columns != \"ARR_DELAY_NEW\"]\n",
    "ytrain = train[[\"ARR_DELAY_NEW\"]]"
   ]
  },
  {
   "cell_type": "code",
   "execution_count": 21,
   "metadata": {},
   "outputs": [
    {
     "name": "stdout",
     "output_type": "stream",
     "text": [
      "Root Mean Squared Error: 21.82\n"
     ]
    }
   ],
   "source": [
    "model = make_pipeline(PolynomialFeatures(2), linear_model.Ridge())\n",
    "model.fit(xtrain, ytrain)\n",
    "print(\"Root Mean Squared Error: %.2f\"% math.sqrt(np.mean((model.predict(xtest) - ytest) ** 2)))"
   ]
  },
  {
   "cell_type": "code",
   "execution_count": 22,
   "metadata": {},
   "outputs": [
    {
     "name": "stdout",
     "output_type": "stream",
     "text": [
      "Root Mean Squared Error: 21.53\n"
     ]
    }
   ],
   "source": [
    "model = make_pipeline(PolynomialFeatures(3), linear_model.Ridge())\n",
    "model.fit(xtrain, ytrain)\n",
    "print(\"Root Mean Squared Error: %.2f\"% math.sqrt(np.mean((model.predict(xtest) - ytest) ** 2)))"
   ]
  },
  {
   "cell_type": "markdown",
   "metadata": {},
   "source": [
    "Les résultats sont légèrement détériorés probablement du fait que la normalisation engendre une perte d'information.\n",
    "\n",
    "Profitons de notre mean encoding pour tester les régressions Ridge et Lasso. Mettons en place un GridSearchCV poiur la régression Ridge afin de voir si l'on peut améliorer nos résultats."
   ]
  },
  {
   "cell_type": "markdown",
   "metadata": {},
   "source": [
    "## Ridge"
   ]
  },
  {
   "cell_type": "code",
   "execution_count": 23,
   "metadata": {},
   "outputs": [],
   "source": [
    "data = save\n",
    "data = data.drop(columns=[\"FL_NUM\", \"DEST_AIRPORT_ID\", \"ORIGIN_AIRPORT_ID\"], axis=1)\n",
    "xtrain, xtest, ytrain, ytest = train_test_split(data.loc[:, data.columns != 'ARR_DELAY_NEW'], data[[\"ARR_DELAY_NEW\"]], test_size=0.2, random_state=0)\n",
    "train = pd.merge(xtrain, ytrain, right_index=True, left_index=True)\n",
    "\n",
    "columns = data.loc[:, \"MONTH\":\"DAY_OF_WEEK\"].columns\n",
    "for column in columns:\n",
    "    items = train.groupby(column).mean()[\"ARR_DELAY_NEW\"].to_dict()\n",
    "    for key, value in items.items():\n",
    "        train.loc[train[column] == key, column] = value\n",
    "        xtest.loc[xtest[column] == key, column] = value\n",
    "\n",
    "xtrain = train.loc[:, train.columns != \"ARR_DELAY_NEW\"]\n",
    "ytrain = train[[\"ARR_DELAY_NEW\"]]"
   ]
  },
  {
   "cell_type": "code",
   "execution_count": 24,
   "metadata": {},
   "outputs": [
    {
     "name": "stdout",
     "output_type": "stream",
     "text": [
      "Root Mean Squared Error: 21.79\n"
     ]
    }
   ],
   "source": [
    "grid = GridSearchCV(linear_model.Ridge(), param_grid = {\"alpha\":alphas}, cv=5)\n",
    "grid.fit(xtrain, ytrain)\n",
    "print(\"Root Mean Squared Error: %.2f\"% math.sqrt(np.mean((grid.predict(xtest) - ytest) ** 2)))"
   ]
  },
  {
   "cell_type": "markdown",
   "metadata": {},
   "source": [
    "## Lasso"
   ]
  },
  {
   "cell_type": "code",
   "execution_count": 25,
   "metadata": {},
   "outputs": [
    {
     "name": "stdout",
     "output_type": "stream",
     "text": [
      "Root Mean Squared Error: 22.50\n"
     ]
    }
   ],
   "source": [
    "clf = linear_model.Lasso(max_iter=10000, alpha=1)\n",
    "clf.fit(xtrain, ytrain)\n",
    "print(\"Root Mean Squared Error: %.2f\"% math.sqrt(np.mean((clf.predict(xtest) - ytest.values) ** 2)))"
   ]
  },
  {
   "cell_type": "markdown",
   "metadata": {},
   "source": [
    "La régression Lasso et Ridge ne sont pas plus efficaces."
   ]
  },
  {
   "cell_type": "markdown",
   "metadata": {},
   "source": [
    "## Régression Linéaire\n",
    "\n",
    "Regardons enfin les coefficients de notre regression linéaire pour comprendre les variables influant le plus."
   ]
  },
  {
   "cell_type": "code",
   "execution_count": 26,
   "metadata": {},
   "outputs": [
    {
     "data": {
      "text/html": [
       "<div>\n",
       "<style scoped>\n",
       "    .dataframe tbody tr th:only-of-type {\n",
       "        vertical-align: middle;\n",
       "    }\n",
       "\n",
       "    .dataframe tbody tr th {\n",
       "        vertical-align: top;\n",
       "    }\n",
       "\n",
       "    .dataframe thead th {\n",
       "        text-align: right;\n",
       "    }\n",
       "</style>\n",
       "<table border=\"1\" class=\"dataframe\">\n",
       "  <thead>\n",
       "    <tr style=\"text-align: right;\">\n",
       "      <th></th>\n",
       "      <th>MONTH</th>\n",
       "      <th>DAY_OF_MONTH</th>\n",
       "      <th>DAY_OF_WEEK</th>\n",
       "      <th>DEP_TIME</th>\n",
       "      <th>ARR_TIME</th>\n",
       "      <th>AIR_TIME</th>\n",
       "      <th>DEP_0_280</th>\n",
       "      <th>ARR_0_220</th>\n",
       "      <th>AIR_0_360</th>\n",
       "      <th>DEP_0_280_TIME</th>\n",
       "      <th>ARR_0_220_TIME</th>\n",
       "      <th>AIR_0_360_TIME</th>\n",
       "    </tr>\n",
       "  </thead>\n",
       "  <tbody>\n",
       "    <tr>\n",
       "      <th>55505</th>\n",
       "      <td>5.133274</td>\n",
       "      <td>6.642723</td>\n",
       "      <td>8.441030</td>\n",
       "      <td>1275</td>\n",
       "      <td>1395</td>\n",
       "      <td>89.0</td>\n",
       "      <td>0</td>\n",
       "      <td>0</td>\n",
       "      <td>1</td>\n",
       "      <td>1275</td>\n",
       "      <td>1395</td>\n",
       "      <td>0.0</td>\n",
       "    </tr>\n",
       "    <tr>\n",
       "      <th>60493</th>\n",
       "      <td>5.133274</td>\n",
       "      <td>6.860787</td>\n",
       "      <td>6.291437</td>\n",
       "      <td>454</td>\n",
       "      <td>628</td>\n",
       "      <td>334.0</td>\n",
       "      <td>0</td>\n",
       "      <td>0</td>\n",
       "      <td>1</td>\n",
       "      <td>454</td>\n",
       "      <td>628</td>\n",
       "      <td>0.0</td>\n",
       "    </tr>\n",
       "    <tr>\n",
       "      <th>57102</th>\n",
       "      <td>5.133274</td>\n",
       "      <td>7.009374</td>\n",
       "      <td>7.692577</td>\n",
       "      <td>537</td>\n",
       "      <td>690</td>\n",
       "      <td>128.0</td>\n",
       "      <td>0</td>\n",
       "      <td>0</td>\n",
       "      <td>1</td>\n",
       "      <td>537</td>\n",
       "      <td>690</td>\n",
       "      <td>0.0</td>\n",
       "    </tr>\n",
       "    <tr>\n",
       "      <th>40725</th>\n",
       "      <td>7.395382</td>\n",
       "      <td>7.998838</td>\n",
       "      <td>7.099756</td>\n",
       "      <td>581</td>\n",
       "      <td>726</td>\n",
       "      <td>304.0</td>\n",
       "      <td>0</td>\n",
       "      <td>0</td>\n",
       "      <td>1</td>\n",
       "      <td>581</td>\n",
       "      <td>726</td>\n",
       "      <td>0.0</td>\n",
       "    </tr>\n",
       "    <tr>\n",
       "      <th>64986</th>\n",
       "      <td>7.320927</td>\n",
       "      <td>6.381798</td>\n",
       "      <td>6.365860</td>\n",
       "      <td>450</td>\n",
       "      <td>577</td>\n",
       "      <td>290.0</td>\n",
       "      <td>0</td>\n",
       "      <td>0</td>\n",
       "      <td>1</td>\n",
       "      <td>450</td>\n",
       "      <td>577</td>\n",
       "      <td>0.0</td>\n",
       "    </tr>\n",
       "  </tbody>\n",
       "</table>\n",
       "</div>"
      ],
      "text/plain": [
       "          MONTH  DAY_OF_MONTH  DAY_OF_WEEK  DEP_TIME  ARR_TIME  AIR_TIME  \\\n",
       "55505  5.133274      6.642723     8.441030      1275      1395      89.0   \n",
       "60493  5.133274      6.860787     6.291437       454       628     334.0   \n",
       "57102  5.133274      7.009374     7.692577       537       690     128.0   \n",
       "40725  7.395382      7.998838     7.099756       581       726     304.0   \n",
       "64986  7.320927      6.381798     6.365860       450       577     290.0   \n",
       "\n",
       "       DEP_0_280  ARR_0_220  AIR_0_360  DEP_0_280_TIME  ARR_0_220_TIME  \\\n",
       "55505          0          0          1            1275            1395   \n",
       "60493          0          0          1             454             628   \n",
       "57102          0          0          1             537             690   \n",
       "40725          0          0          1             581             726   \n",
       "64986          0          0          1             450             577   \n",
       "\n",
       "       AIR_0_360_TIME  \n",
       "55505             0.0  \n",
       "60493             0.0  \n",
       "57102             0.0  \n",
       "40725             0.0  \n",
       "64986             0.0  "
      ]
     },
     "execution_count": 26,
     "metadata": {},
     "output_type": "execute_result"
    }
   ],
   "source": [
    "xtrain.head()"
   ]
  },
  {
   "cell_type": "code",
   "execution_count": 27,
   "metadata": {},
   "outputs": [
    {
     "data": {
      "text/plain": [
       "[0.9305181840783486,\n",
       " 0.9822538169680912,\n",
       " 0.9619348988913421,\n",
       " 0.10800188157890907,\n",
       " 0.02780199802916028,\n",
       " -0.004034534844547744,\n",
       " 1.088137466047375,\n",
       " 20.38992463988125,\n",
       " 183.1976526485182,\n",
       " -0.10854080315051817,\n",
       " -0.021739465595885576,\n",
       " 0.5218577074413844]"
      ]
     },
     "execution_count": 27,
     "metadata": {},
     "output_type": "execute_result"
    }
   ],
   "source": [
    "lr = linear_model.LinearRegression()\n",
    "lr.fit(xtrain, ytrain)\n",
    "list(lr.coef_[0][0:16])"
   ]
  },
  {
   "cell_type": "markdown",
   "metadata": {},
   "source": [
    "De nouveau, on remarque l'intérêt de nos variables booléennes qui sont de loin les plus importantes dans la décision finale preuve que le feature engineering était ici primordial. On aurait pu penser à ajouter d'autres colonnes (éloignement des vacances, jour férié...)."
   ]
  },
  {
   "cell_type": "markdown",
   "metadata": {},
   "source": [
    "Si la régression polynomiale de degrée 3 est l'algorithme apportant les meilleurs résultats avec du mean encoding, elle reste moins efficace que la régression linéaire avec les dummies. En revanche le nombre de colonnes et le temps d'exécution de notre régression polynomiale de degrée 3 sont bien plus intéressants. Il va nous falloir tester ces deux options sur l'ensemble de notre dataset afin de choisir laquelle conserver. Notons que la régression polynomiale de degré 2 n'est pas à éliminer non plus tant son temps d'exécution peut s'avérer positif et ses résultats globalement satisfaisants.\n",
    "\n",
    "Pour ce faire nous allons créer deux nouveaux notebooks. Le premier nous servira de baseline error et le second sera lui utiliser pour entrainer nos modèles finaux."
   ]
  }
 ],
 "metadata": {
  "kernelspec": {
   "display_name": "Python 3",
   "language": "python",
   "name": "python3"
  },
  "language_info": {
   "codemirror_mode": {
    "name": "ipython",
    "version": 3
   },
   "file_extension": ".py",
   "mimetype": "text/x-python",
   "name": "python",
   "nbconvert_exporter": "python",
   "pygments_lexer": "ipython3",
   "version": "3.6.4"
  }
 },
 "nbformat": 4,
 "nbformat_minor": 2
}
