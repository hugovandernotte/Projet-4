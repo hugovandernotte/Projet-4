{
 "cells": [
  {
   "cell_type": "code",
   "execution_count": 1,
   "metadata": {},
   "outputs": [],
   "source": [
    "# importons les librairies dont nous avons besoin.\n",
    "\n",
    "import pandas as pd\n",
    "import numpy as np\n",
    "import seaborn as sns\n",
    "import matplotlib.pyplot as plt\n",
    "plt.style.use('seaborn-muted')\n",
    "%matplotlib inline\n",
    "import math\n",
    "from sklearn import decomposition\n",
    "from sklearn.linear_model import LinearRegression\n",
    "from sklearn.model_selection import train_test_split\n",
    "from sklearn.metrics import mean_squared_error, r2_score\n",
    "from sklearn import datasets, linear_model\n",
    "from sklearn import preprocessing\n",
    "from sklearn.model_selection import GridSearchCV\n",
    "from sklearn.preprocessing import PolynomialFeatures\n",
    "from sklearn.pipeline import make_pipeline\n",
    "from sklearn.model_selection import ShuffleSplit\n",
    "from sklearn.model_selection import cross_val_score\n",
    "import pickle\n",
    "import csv"
   ]
  },
  {
   "cell_type": "code",
   "execution_count": 2,
   "metadata": {},
   "outputs": [],
   "source": [
    "data = pd.read_csv(\"clean_all_data.csv\")\n",
    "data = data.drop(columns=[\"TAIL_NUM\"])\n",
    "save = data"
   ]
  },
  {
   "cell_type": "markdown",
   "metadata": {},
   "source": [
    "Comme vu dans le Baseline error finale (3) nos RMSE étaient de 36.50 et de 36.31 avec mean encoding et modèle unique sur l'ensemble du dataset. Voyons s'il est possible d'améliorer ces résultats en créant un modèle par compagnie aérienne.\n",
    "\n",
    "# Un modèle par compagnie aérienne"
   ]
  },
  {
   "cell_type": "markdown",
   "metadata": {},
   "source": [
    "Commençons par visualiser le nombre de ligne par compagnie aérienne. Cela sera sûrement à prendre en compte dans le choix de nos algorithmes finaux. En même temps, préparons notre dataset pour le mean encoding."
   ]
  },
  {
   "cell_type": "code",
   "execution_count": 3,
   "metadata": {},
   "outputs": [
    {
     "name": "stdout",
     "output_type": "stream",
     "text": [
      "The shape of airline 19805 is 873209\n",
      "The shape of airline 19930 is 165641\n",
      "The shape of airline 20409 is 280251\n",
      "The shape of airline 19790 is 964797\n",
      "The shape of airline 20436 is 94505\n",
      "The shape of airline 19690 is 76334\n",
      "The shape of airline 20416 is 135371\n",
      "The shape of airline 20366 is 489510\n",
      "The shape of airline 20304 is 593938\n",
      "The shape of airline 19977 is 538190\n",
      "The shape of airline 21171 is 66500\n",
      "The shape of airline 19393 is 1277949\n"
     ]
    }
   ],
   "source": [
    "shapes = []\n",
    "airlines = data[\"AIRLINE_ID\"].unique()\n",
    "columns = data.loc[:, \"MONTH\":\"DAY_OF_WEEK\"].columns\n",
    "airlines_data = []\n",
    "\n",
    "for airline in airlines:\n",
    "    airline_data = data[data[\"AIRLINE_ID\"] == airline]\n",
    "    airline_data = airline_data.drop(columns=[\"AIRLINE_ID\", \"FL_NUM\", \"ORIGIN_AIRPORT_ID\", \"DEST_AIRPORT_ID\"], axis=1)\n",
    "    airline_data.is_copy = False\n",
    "    train, test = train_test_split(airline_data, test_size=0.2, random_state=0)\n",
    "    for column in columns:\n",
    "        items = train.groupby(column).mean()[\"ARR_DELAY_NEW\"].round(2).to_dict()\n",
    "        for key, value in items.items():\n",
    "            airline_data.loc[airline_data[column] == key, column] = value\n",
    "    airlines_data.append(airline_data)\n",
    "    shapes.append(airline_data.shape[0])\n",
    "            \n",
    "for i in range(0, len(shapes)):\n",
    "    print(\"The shape of airline %s is %s\"% (airlines[i], shapes[i]))"
   ]
  },
  {
   "cell_type": "markdown",
   "metadata": {},
   "source": [
    "Les dummies risquent de prendre beaucoup de temps pour les compagnies 19805, 19790, 20366, 20304, 19977 et 19393.\n",
    "\n",
    "## Mean encoding\n",
    "\n",
    "Nous allons dans un premier temps utiliser la technique du mean encoding et nous testerons ensuite les dummies."
   ]
  },
  {
   "cell_type": "markdown",
   "metadata": {},
   "source": [
    "### Modèle 1 : Régression linéaire avec mean encoding\n",
    "### Modèle 2 : Régression polynomiale de degré 2 avec mean encoding\n",
    "### Modèle 3 : Régression polynomiale de degré 3 avec mean encoding\n",
    "\n",
    "Afin d'optimiser notre notebook comparons ces 3 algorithmes en même temps. Toutefois, la régression polynomiale de degré 3 étant longue à faire tourner, nous ne la testerons que sur les compagnies aériennes les moins fournies."
   ]
  },
  {
   "cell_type": "code",
   "execution_count": 4,
   "metadata": {},
   "outputs": [
    {
     "name": "stdout",
     "output_type": "stream",
     "text": [
      "Mean squared error: 39.30 for 19805 with LinearRegression\n",
      "Mean squared error: 39.05 for 19805 with Polynomiale 2\n",
      "Mean squared error: 21.79 for 19930 with LinearRegression\n",
      "Mean squared error: 21.49 for 19930 with Polynomiale 2\n",
      "Mean squared error: 37.63 for 20409 with LinearRegression\n",
      "Mean squared error: 36.52 for 20409 with Polynomiale 2\n",
      "Mean squared error: 36.32 for 19790 with LinearRegression\n",
      "Mean squared error: 35.69 for 19790 with Polynomiale 2\n",
      "Mean squared error: 42.64 for 20436 with LinearRegression\n",
      "Mean squared error: 42.28 for 20436 with Polynomiale 2\n",
      "Mean squared error: 21.24 for 19690 with LinearRegression\n",
      "Mean squared error: 21.21 for 19690 with Polynomiale 2\n",
      "Mean squared error: 40.62 for 20416 with LinearRegression\n",
      "Mean squared error: 40.30 for 20416 with Polynomiale 2\n",
      "Mean squared error: 44.63 for 20366 with LinearRegression\n",
      "Mean squared error: 44.49 for 20366 with Polynomiale 2\n",
      "Mean squared error: 42.46 for 20304 with LinearRegression\n",
      "Mean squared error: 42.29 for 20304 with Polynomiale 2\n",
      "Mean squared error: 37.37 for 19977 with LinearRegression\n",
      "Mean squared error: 37.06 for 19977 with Polynomiale 2\n",
      "Mean squared error: 29.06 for 21171 with LinearRegression\n",
      "Mean squared error: 28.41 for 21171 with Polynomiale 2\n",
      "Mean squared error: 25.03 for 19393 with LinearRegression\n",
      "Mean squared error: 24.56 for 19393 with Polynomiale 2\n",
      "Final Mean squared error for LinearRegression: 35.23\n",
      "Final Mean squared error: 34.83 for Polynomiale 2\n",
      "Mean squared error: 20.89 for 19930 with Polynomiale 3\n",
      "Mean squared error: 35.82 for 20409 with Polynomiale 3\n",
      "Mean squared error: 130.70 for 20436 with Polynomiale 3\n",
      "Mean squared error: 35.40 for 19690 with Polynomiale 3\n",
      "Mean squared error: 255.31 for 20416 with Polynomiale 3\n",
      "Mean squared error: 28.11 for 21171 with Polynomiale 3\n"
     ]
    }
   ],
   "source": [
    "errors = []\n",
    "i = 0\n",
    "\n",
    "for airline_data in airlines_data:\n",
    "    xtrain, xtest, ytrain, ytest = train_test_split(airline_data.loc[:, airline_data.columns != 'ARR_DELAY_NEW'], airline_data[[\"ARR_DELAY_NEW\"]], test_size=0.2, random_state=0)\n",
    "    for regr in [LinearRegression(), make_pipeline(PolynomialFeatures(2), linear_model.Ridge())]:\n",
    "        regr.fit(xtrain, ytrain)\n",
    "        ypred = regr.predict(xtest)\n",
    "        errors.append(math.sqrt(mean_squared_error(ytest, ypred)))\n",
    "        print(\"Mean squared error: %.2f for %s with %s\" % (math.sqrt(mean_squared_error(ytest, ypred)), airlines[i], str(regr).split(\"(\")[0].replace(\"Pipeline\", \"Polynomiale 2\")))\n",
    "    i += 1\n",
    "    \n",
    "sum = 0\n",
    "for i in range(0, len(shapes)):\n",
    "    sum += shapes[i] * errors[2*i]\n",
    "sum /= data.shape[0]\n",
    "print(\"Final Mean squared error for LinearRegression: %.2f\"% sum)\n",
    "\n",
    "sum = 0\n",
    "for i in range(0, len(shapes)):\n",
    "    sum += shapes[i] * errors[2*i+1]\n",
    "sum /= data.shape[0]\n",
    "print(\"Final Mean squared error: %.2f for Polynomiale 2\"% sum)\n",
    "\n",
    "i = 0\n",
    "for j in [1, 2, 4, 5, 6, 10]:\n",
    "    airline_data = airlines_data[j]\n",
    "    xtrain, xtest, ytrain, ytest = train_test_split(airline_data.loc[:, airline_data.columns != 'ARR_DELAY_NEW'], airline_data[[\"ARR_DELAY_NEW\"]], test_size=0.2, random_state=0)\n",
    "    regr = make_pipeline(PolynomialFeatures(3), linear_model.Ridge())\n",
    "    regr.fit(xtrain, ytrain)\n",
    "    ypred = regr.predict(xtest)\n",
    "    errors.append(math.sqrt(mean_squared_error(ytest, ypred)))\n",
    "    print(\"Mean squared error: %.2f for %s with Polynomiale 3\" % (math.sqrt(mean_squared_error(ytest, ypred)), airlines[j]))\n",
    "    i += 1"
   ]
  },
  {
   "cell_type": "markdown",
   "metadata": {},
   "source": [
    "Les résultats sont meilleurs que ceux obtenus avec la baseline error ce qui confirme notre choix de créer un modèle par compagnie. \n",
    "\n",
    "Il est à noter que les régressions polinomiales performent mieux que la régression linéaire. \n",
    "\n",
    "Enfin, si la régression polynomiale de degré 3 est parfois plus intéressante que celle de degré 2, elle semble moins robuste et est plus longue à exécuter, nous préférerons donc la régression polynomiale de degré 2."
   ]
  },
  {
   "cell_type": "markdown",
   "metadata": {},
   "source": [
    "### Modèle 4 : Régression linéaire avec dummies (sans FL_NUM)\n",
    "\n",
    "La conversion de la colonne FL_NUM en dummies engendrant un trop grand nombre de colonnes, décidons de ne pas utiliser cette colonne dans un premier temps sur l'ensemble des compagnies aériennes."
   ]
  },
  {
   "cell_type": "code",
   "execution_count": 5,
   "metadata": {},
   "outputs": [],
   "source": [
    "columns = ['ORIGIN_AIRPORT_ID', 'DEST_AIRPORT_ID', \"MONTH\", \"DAY_OF_WEEK\", \"DAY_OF_MONTH\"]\n",
    "airlines_data = []\n",
    "\n",
    "for airline in airlines:\n",
    "    airline_data = data[data[\"AIRLINE_ID\"] == airline]\n",
    "    airline_data = airline_data.drop(columns=[\"AIRLINE_ID\"], axis=1)\n",
    "    airline_data = pd.get_dummies(airline_data, columns=columns)\n",
    "    airlines_data.append(airline_data)"
   ]
  },
  {
   "cell_type": "code",
   "execution_count": 6,
   "metadata": {},
   "outputs": [
    {
     "name": "stdout",
     "output_type": "stream",
     "text": [
      "Mean squared error: 39.18 for 19805\n",
      "Mean squared error: 21.61 for 19930\n",
      "Mean squared error: 37.13 for 20409\n",
      "Mean squared error: 36.14 for 19790\n",
      "Mean squared error: 42.44 for 20436\n",
      "Mean squared error: 21.22 for 19690\n",
      "Mean squared error: 39.97 for 20416\n",
      "Mean squared error: 52.22 for 20366\n",
      "Mean squared error: 42.17 for 20304\n",
      "Mean squared error: 37.14 for 19977\n",
      "Mean squared error: 28.78 for 21171\n",
      "Mean squared error: 24.91 for 19393\n",
      "Final Mean squared error: 35.72\n"
     ]
    }
   ],
   "source": [
    "errors = []\n",
    "i = 0\n",
    "\n",
    "for airline_data in airlines_data:\n",
    "    airline_data = airline_data.drop(columns=[\"FL_NUM\"], axis=1)\n",
    "    xtrain, xtest, ytrain, ytest = train_test_split(airline_data.loc[:, airline_data.columns != 'ARR_DELAY_NEW'], airline_data[[\"ARR_DELAY_NEW\"]], test_size=0.2, random_state=0)\n",
    "    regr = LinearRegression()\n",
    "    regr.fit(xtrain, ytrain)\n",
    "    ypred = regr.predict(xtest)\n",
    "    errors.append(math.sqrt(mean_squared_error(ytest, ypred)))\n",
    "    print(\"Mean squared error: %.2f for %d\" % (math.sqrt(mean_squared_error(ytest, ypred)), airlines[i]))\n",
    "    i += 1\n",
    "    \n",
    "sum = 0\n",
    "for i in range(0, len(shapes)):\n",
    "    sum += shapes[i] * errors[i]\n",
    "sum /= data.shape[0]\n",
    "print(\"Final Mean squared error: %.2f\"% sum)"
   ]
  },
  {
   "cell_type": "markdown",
   "metadata": {},
   "source": [
    "Les résultats sont ici moins bons qu'avec la regression polynomiale de degré 2."
   ]
  },
  {
   "cell_type": "markdown",
   "metadata": {},
   "source": [
    "### Modèle 5 : Régression linéaire avec dummies (avec FL_NUM)\n",
    "\n",
    "Décidons désormais de prendre en compte les FL_NUM afin de voir si l'on peut améliorer les résultats. Mais afin de ne pas alonger de façon considérable les délais, testons cette approche uniquement sur les compagnies les moins fournies en données."
   ]
  },
  {
   "cell_type": "code",
   "execution_count": 7,
   "metadata": {},
   "outputs": [],
   "source": [
    "airlines_dummies = [19930, 20409, 20436, 19690, 20416, 21171]\n",
    "shapes_dummies = [165641, 280251, 94505, 76334, 135371, 66500]\n",
    "airlines_data_dummies = []\n",
    "dummies = [1, 2, 4, 5, 6, 10]\n",
    "\n",
    "for i in range(0, 12):\n",
    "    if i in dummies:\n",
    "        airlines_data_dummies.append(airlines_data[i])\n",
    "\n",
    "airlines_data = []\n",
    "\n",
    "for airline_data in airlines_data_dummies:\n",
    "    airline_data = pd.get_dummies(airline_data, columns=[\"FL_NUM\"])\n",
    "    airlines_data.append(airline_data)"
   ]
  },
  {
   "cell_type": "code",
   "execution_count": 8,
   "metadata": {},
   "outputs": [
    {
     "name": "stdout",
     "output_type": "stream",
     "text": [
      "Mean squared error: 19.57 for 19930\n",
      "Mean squared error: 34.67 for 20409\n",
      "Mean squared error: 119349355.22 for 20436\n",
      "Mean squared error: 20.59 for 19690\n",
      "Mean squared error: 49491.79 for 20416\n",
      "Mean squared error: 22.81 for 21171\n",
      "Final Mean squared error: 2031215.00\n"
     ]
    }
   ],
   "source": [
    "errors = []\n",
    "i = 0\n",
    "\n",
    "for airline_data in airlines_data:\n",
    "    xtrain, xtest, ytrain, ytest = train_test_split(airline_data.loc[:, airline_data.columns != 'ARR_DELAY_NEW'], airline_data[[\"ARR_DELAY_NEW\"]], test_size=0.2, random_state=0)\n",
    "    regr = LinearRegression()\n",
    "    regr.fit(xtrain, ytrain)\n",
    "    ypred = regr.predict(xtest)\n",
    "    errors.append(math.sqrt(mean_squared_error(ytest, ypred)))\n",
    "    print(\"Mean squared error: %.2f for %d\" % (math.sqrt(mean_squared_error(ytest, ypred)), airlines_dummies[i]))\n",
    "    i += 1\n",
    "\n",
    "sum = 0\n",
    "for i in range(0, len(shapes_dummies)):\n",
    "    sum += shapes_dummies[i] * errors[i]\n",
    "sum /= data.shape[0]\n",
    "print(\"Final Mean squared error: %.2f\"% sum)"
   ]
  },
  {
   "cell_type": "markdown",
   "metadata": {},
   "source": [
    "Les résultats se sont améliorés pour certaines de nos compganies aérinnes. On obtient au final comme meilleurs résultats :\n",
    "\n",
    "- Mean squared error: 39.05 for 19805 with Polynomiale 2\n",
    "- Mean squared error: 19.57 for 19930 with Dummies\n",
    "- Mean squared error: 34.67 for 20409 with Dummies\n",
    "- Mean squared error: 35.69 for 19790 with Polynomiale 2\n",
    "- Mean squared error: 42.28 for 20436 with Polynomiale 2\n",
    "- Mean squared error: 20.59 for 19690 with Dummies\n",
    "- Mean squared error: 40.30 for 20416 with Polynomiale 2\n",
    "- Mean squared error: 44.49 for 20366 with Polynomiale 2\n",
    "- Mean squared error: 42.29 for 20304 with Polynomiale 2\n",
    "- Mean squared error: 37.06 for 19977 with Polynomiale 2\n",
    "- Mean squared error: 28.41 for 21171 with Dummies\n",
    "- Mean squared error: 24.56 for 19393 with Polynomiale 2\n",
    "- Final Mean squared error: 34.67\n",
    "\n",
    "Soit un écart de 34 minutes et 40.2 secondes. Ces résultats sont donc meilleurs que ceux obtenus avec notre baseline error."
   ]
  },
  {
   "cell_type": "code",
   "execution_count": 9,
   "metadata": {},
   "outputs": [
    {
     "data": {
      "text/plain": [
       "[<matplotlib.lines.Line2D at 0x1a3a24d048>]"
      ]
     },
     "execution_count": 9,
     "metadata": {},
     "output_type": "execute_result"
    },
    {
     "data": {
      "image/png": "[encoded data removed]",
      "text/plain": [
       "<matplotlib.figure.Figure at 0x1a1a780400>"
      ]
     },
     "metadata": {},
     "output_type": "display_data"
    }
   ],
   "source": [
    "best_errors = {19805: 39.05, 19930: 19.57, 20409: 34.67, 19790: 35.69, 20436: 42.28, 19690: 20.59, 20416: 40.30, 20366: 44.49, 20304: 42.29, 19977: 37.06, 21171: 28.41, 19393: 24.56}\n",
    "plt.plot(best_errors.values())"
   ]
  },
  {
   "cell_type": "markdown",
   "metadata": {},
   "source": [
    "Avant d'enregister les CSV dont nous avons besoin, regardons ce que notre polynomiale de degré 2 donne lorsque l'on élimine les valeurs extrêmes de notre dataset. Nous éliminerons pour chaque compagnie aérienne les vols ayant un retard supérieur à 99% des autres."
   ]
  },
  {
   "cell_type": "code",
   "execution_count": 10,
   "metadata": {
    "scrolled": true
   },
   "outputs": [
    {
     "name": "stdout",
     "output_type": "stream",
     "text": [
      "Mean squared error: 22.74 for 19805\n",
      "Mean squared error: 13.05 for 19930\n",
      "Mean squared error: 27.23 for 20409\n",
      "Mean squared error: 19.05 for 19790\n",
      "Mean squared error: 28.79 for 20436\n",
      "Mean squared error: 7.30 for 19690\n",
      "Mean squared error: 27.38 for 20416\n",
      "Mean squared error: 26.59 for 20366\n",
      "Mean squared error: 23.98 for 20304\n",
      "Mean squared error: 24.65 for 19977\n",
      "Mean squared error: 23.34 for 21171\n",
      "Mean squared error: 17.56 for 19393\n",
      "Final Mean squared error: 21.51 for Polynomiale 2\n"
     ]
    }
   ],
   "source": [
    "data = pd.read_csv(\"clean_all_data.csv\")\n",
    "data = data.drop(columns=[\"TAIL_NUM\"])\n",
    "airlines = data[\"AIRLINE_ID\"].unique()\n",
    "columns = data.loc[:, \"MONTH\":\"DAY_OF_WEEK\"].columns\n",
    "airlines_data = []\n",
    "\n",
    "for airline in airlines:\n",
    "    airline_data = data[data[\"AIRLINE_ID\"] == airline]\n",
    "    airline_data = airline_data[airline_data[\"ARR_DELAY_NEW\"] < airline_data[\"ARR_DELAY_NEW\"].quantile(.99)]\n",
    "    airline_data = airline_data.drop(columns=[\"AIRLINE_ID\", \"FL_NUM\", \"ORIGIN_AIRPORT_ID\", \"DEST_AIRPORT_ID\"], axis=1)\n",
    "    airline_data.is_copy = False\n",
    "    train, test = train_test_split(airline_data, test_size=0.2, random_state=0)\n",
    "    for column in columns:\n",
    "        items = train.groupby(column).mean()[\"ARR_DELAY_NEW\"].round(2).to_dict()\n",
    "        for key, value in items.items():\n",
    "            airline_data.loc[airline_data[column] == key, column] = value\n",
    "    airlines_data.append(airline_data)\n",
    "            \n",
    "\n",
    "errors = []\n",
    "i = 0\n",
    "\n",
    "for airline_data in airlines_data:\n",
    "    xtrain, xtest, ytrain, ytest = train_test_split(airline_data.loc[:, airline_data.columns != 'ARR_DELAY_NEW'], airline_data[[\"ARR_DELAY_NEW\"]], test_size=0.2, random_state=0)\n",
    "    regr = make_pipeline(PolynomialFeatures(2), linear_model.Ridge())\n",
    "    regr.fit(xtrain, ytrain)\n",
    "    ypred = regr.predict(xtest)\n",
    "    errors.append(math.sqrt(mean_squared_error(ytest, ypred)))\n",
    "    print(\"Mean squared error: %.2f for %s\" % (math.sqrt(mean_squared_error(ytest, ypred)), airlines[i]))\n",
    "    i += 1\n",
    "    \n",
    "sum = 0\n",
    "for i in range(0, len(shapes)):\n",
    "    sum += shapes[i] * errors[i]\n",
    "sum /= data.shape[0]\n",
    "print(\"Final Mean squared error: %.2f for Polynomiale 2\"% sum)"
   ]
  },
  {
   "cell_type": "markdown",
   "metadata": {},
   "source": [
    "On remarque ici que les prédictions se sont largement améliorés. Bien évidemment ces résultats sont biaisés puisque des valeurs du dataset de test ont été supprimées, mais on peut se rendre compte que si notre algorithme ne devait prevoir que les faibles retards il serait également intéressant."
   ]
  },
  {
   "cell_type": "markdown",
   "metadata": {},
   "source": [
    "## Sauvegarde des coefficients\n",
    "\n",
    "### Polynomiale 2 avec mean encoding"
   ]
  },
  {
   "cell_type": "code",
   "execution_count": 72,
   "metadata": {},
   "outputs": [],
   "source": [
    "data = pd.read_csv(\"clean_all_data.csv\")\n",
    "data = data.drop(columns=[\"TAIL_NUM\"])\n",
    "airlines = [19805, 19790, 20436, 20416, 20366, 20304, 19977, 19393]\n",
    "columns = data.loc[:, \"MONTH\":\"DAY_OF_WEEK\"].columns\n",
    "airlines_data = []\n",
    "\n",
    "for airline in airlines:\n",
    "    airline_data = data[data[\"AIRLINE_ID\"] == airline]\n",
    "    airline_data = airline_data.drop(columns=[\"AIRLINE_ID\", \"FL_NUM\", \"ORIGIN_AIRPORT_ID\", \"DEST_AIRPORT_ID\"], axis=1)\n",
    "    airline_data.is_copy = False\n",
    "    train, test = train_test_split(airline_data, test_size=0.2, random_state=0)\n",
    "    for column in columns:\n",
    "        items = train.groupby(column).mean()[\"ARR_DELAY_NEW\"].round(2).to_dict()\n",
    "        with open('airlines/{}/{}.csv'.format(airline, column.lower()), 'w') as csv_file:\n",
    "            writer = csv.writer(csv_file)\n",
    "            for key, value in items.items():\n",
    "                writer.writerow([key, value])\n",
    "                airline_data.loc[airline_data[column] == key, column] = value\n",
    "    airlines_data.append(airline_data)\n",
    "\n",
    "errors = []\n",
    "i = 0\n",
    "\n",
    "for airline_data in airlines_data:\n",
    "    xtrain, xtest, ytrain, ytest = train_test_split(airline_data.loc[:, airline_data.columns != 'ARR_DELAY_NEW'], airline_data[[\"ARR_DELAY_NEW\"]], test_size=0.2, random_state=0)\n",
    "    regr = make_pipeline(PolynomialFeatures(2), linear_model.Ridge())\n",
    "    regr.fit(xtrain, ytrain)\n",
    "    filename = 'airlines/{}/model.sav'.format(airlines[i])\n",
    "    pickle.dump(regr, open(filename, 'wb'))\n",
    "    i += 1"
   ]
  },
  {
   "cell_type": "markdown",
   "metadata": {},
   "source": [
    "## Régression linéaire avec dummies"
   ]
  },
  {
   "cell_type": "code",
   "execution_count": 168,
   "metadata": {},
   "outputs": [],
   "source": [
    "columns = ['ORIGIN_AIRPORT_ID', 'DEST_AIRPORT_ID', \"MONTH\", \"DAY_OF_WEEK\", \"DAY_OF_MONTH\", \"FL_NUM\"]\n",
    "data = pd.read_csv(\"clean_all_data.csv\")\n",
    "data = data.drop(columns=[\"TAIL_NUM\"])\n",
    "airlines = [19930, 20409, 19690, 21171]\n",
    "airlines_data = []\n",
    "\n",
    "for airline in airlines:\n",
    "    airline_data = data[data[\"AIRLINE_ID\"] == airline]\n",
    "    airline_data = airline_data.drop(columns=[\"AIRLINE_ID\"], axis=1)\n",
    "    airline_data = pd.get_dummies(airline_data, columns=columns)\n",
    "    list(xtest.columns)\n",
    "    with open('airlines/{}/{}.csv'.format(airline, \"columns\"), 'w') as csv_file:\n",
    "        writer = csv.writer(csv_file)\n",
    "        columns_to_save = list(airline_data.columns)\n",
    "        columns_to_save.remove(\"ARR_DELAY_NEW\")\n",
    "        writer.writerow(columns_to_save)\n",
    "    airlines_data.append(airline_data)\n",
    "    \n",
    "errors = []\n",
    "i = 0\n",
    "\n",
    "for airline_data in airlines_data:\n",
    "    xtrain, xtest, ytrain, ytest = train_test_split(airline_data.loc[:, airline_data.columns != 'ARR_DELAY_NEW'], airline_data[[\"ARR_DELAY_NEW\"]], test_size=0.2, random_state=0)\n",
    "    regr = LinearRegression()\n",
    "    regr.fit(xtrain, ytrain)\n",
    "    filename = 'airlines/{}/model.sav'.format(airlines[i])\n",
    "    pickle.dump(regr, open(filename, 'wb'))\n",
    "    i += 1"
   ]
  }
 ],
 "metadata": {
  "kernelspec": {
   "display_name": "Python 3",
   "language": "python",
   "name": "python3"
  },
  "language_info": {
   "codemirror_mode": {
    "name": "ipython",
    "version": 3
   },
   "file_extension": ".py",
   "mimetype": "text/x-python",
   "name": "python",
   "nbconvert_exporter": "python",
   "pygments_lexer": "ipython3",
   "version": "3.6.4"
  }
 },
 "nbformat": 4,
 "nbformat_minor": 2
}
