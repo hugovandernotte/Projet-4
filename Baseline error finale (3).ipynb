{
 "cells": [
  {
   "cell_type": "code",
   "execution_count": 1,
   "metadata": {},
   "outputs": [],
   "source": [
    "# importons les librairies dont nous avons besoin.\n",
    "\n",
    "import pandas as pd\n",
    "import numpy as np\n",
    "import seaborn as sns\n",
    "import matplotlib.pyplot as plt\n",
    "plt.style.use('seaborn-muted')\n",
    "%matplotlib inline\n",
    "import math\n",
    "from sklearn import decomposition\n",
    "from sklearn.linear_model import LinearRegression\n",
    "from sklearn.model_selection import train_test_split\n",
    "from sklearn.metrics import mean_squared_error, r2_score\n",
    "from sklearn import datasets, linear_model\n",
    "from sklearn import preprocessing\n",
    "from sklearn.model_selection import GridSearchCV\n",
    "from sklearn.preprocessing import PolynomialFeatures\n",
    "from sklearn.pipeline import make_pipeline"
   ]
  },
  {
   "cell_type": "code",
   "execution_count": 2,
   "metadata": {},
   "outputs": [],
   "source": [
    "data = pd.read_csv(\"clean_all_data.csv\")\n",
    "data = data.drop(columns=[\"TAIL_NUM\", \"FL_NUM\", \"ORIGIN_AIRPORT_ID\", \"DEST_AIRPORT_ID\"])\n",
    "save = data"
   ]
  },
  {
   "cell_type": "code",
   "execution_count": 3,
   "metadata": {},
   "outputs": [
    {
     "data": {
      "text/html": [
       "<div>\n",
       "<style scoped>\n",
       "    .dataframe tbody tr th:only-of-type {\n",
       "        vertical-align: middle;\n",
       "    }\n",
       "\n",
       "    .dataframe tbody tr th {\n",
       "        vertical-align: top;\n",
       "    }\n",
       "\n",
       "    .dataframe thead th {\n",
       "        text-align: right;\n",
       "    }\n",
       "</style>\n",
       "<table border=\"1\" class=\"dataframe\">\n",
       "  <thead>\n",
       "    <tr style=\"text-align: right;\">\n",
       "      <th></th>\n",
       "      <th>MONTH</th>\n",
       "      <th>DAY_OF_MONTH</th>\n",
       "      <th>DAY_OF_WEEK</th>\n",
       "      <th>AIRLINE_ID</th>\n",
       "      <th>DEP_TIME</th>\n",
       "      <th>ARR_TIME</th>\n",
       "      <th>ARR_DELAY_NEW</th>\n",
       "      <th>AIR_TIME</th>\n",
       "      <th>DEP_0_280</th>\n",
       "      <th>ARR_0_220</th>\n",
       "      <th>AIR_0_360</th>\n",
       "      <th>DEP_0_280_TIME</th>\n",
       "      <th>ARR_0_220_TIME</th>\n",
       "      <th>AIR_0_360_TIME</th>\n",
       "    </tr>\n",
       "  </thead>\n",
       "  <tbody>\n",
       "    <tr>\n",
       "      <th>0</th>\n",
       "      <td>1</td>\n",
       "      <td>6</td>\n",
       "      <td>3</td>\n",
       "      <td>19805</td>\n",
       "      <td>657</td>\n",
       "      <td>872</td>\n",
       "      <td>0.0</td>\n",
       "      <td>132.0</td>\n",
       "      <td>0</td>\n",
       "      <td>0</td>\n",
       "      <td>1</td>\n",
       "      <td>657</td>\n",
       "      <td>872</td>\n",
       "      <td>0.0</td>\n",
       "    </tr>\n",
       "    <tr>\n",
       "      <th>1</th>\n",
       "      <td>1</td>\n",
       "      <td>7</td>\n",
       "      <td>4</td>\n",
       "      <td>19805</td>\n",
       "      <td>656</td>\n",
       "      <td>866</td>\n",
       "      <td>0.0</td>\n",
       "      <td>126.0</td>\n",
       "      <td>0</td>\n",
       "      <td>0</td>\n",
       "      <td>1</td>\n",
       "      <td>656</td>\n",
       "      <td>866</td>\n",
       "      <td>0.0</td>\n",
       "    </tr>\n",
       "    <tr>\n",
       "      <th>2</th>\n",
       "      <td>1</td>\n",
       "      <td>8</td>\n",
       "      <td>5</td>\n",
       "      <td>19805</td>\n",
       "      <td>655</td>\n",
       "      <td>885</td>\n",
       "      <td>7.0</td>\n",
       "      <td>135.0</td>\n",
       "      <td>0</td>\n",
       "      <td>0</td>\n",
       "      <td>1</td>\n",
       "      <td>655</td>\n",
       "      <td>885</td>\n",
       "      <td>0.0</td>\n",
       "    </tr>\n",
       "    <tr>\n",
       "      <th>3</th>\n",
       "      <td>1</td>\n",
       "      <td>9</td>\n",
       "      <td>6</td>\n",
       "      <td>19805</td>\n",
       "      <td>662</td>\n",
       "      <td>873</td>\n",
       "      <td>0.0</td>\n",
       "      <td>129.0</td>\n",
       "      <td>0</td>\n",
       "      <td>0</td>\n",
       "      <td>1</td>\n",
       "      <td>662</td>\n",
       "      <td>873</td>\n",
       "      <td>0.0</td>\n",
       "    </tr>\n",
       "    <tr>\n",
       "      <th>4</th>\n",
       "      <td>1</td>\n",
       "      <td>10</td>\n",
       "      <td>7</td>\n",
       "      <td>19805</td>\n",
       "      <td>760</td>\n",
       "      <td>991</td>\n",
       "      <td>113.0</td>\n",
       "      <td>137.0</td>\n",
       "      <td>0</td>\n",
       "      <td>0</td>\n",
       "      <td>1</td>\n",
       "      <td>760</td>\n",
       "      <td>991</td>\n",
       "      <td>0.0</td>\n",
       "    </tr>\n",
       "  </tbody>\n",
       "</table>\n",
       "</div>"
      ],
      "text/plain": [
       "   MONTH  DAY_OF_MONTH  DAY_OF_WEEK  AIRLINE_ID  DEP_TIME  ARR_TIME  \\\n",
       "0      1             6            3       19805       657       872   \n",
       "1      1             7            4       19805       656       866   \n",
       "2      1             8            5       19805       655       885   \n",
       "3      1             9            6       19805       662       873   \n",
       "4      1            10            7       19805       760       991   \n",
       "\n",
       "   ARR_DELAY_NEW  AIR_TIME  DEP_0_280  ARR_0_220  AIR_0_360  DEP_0_280_TIME  \\\n",
       "0            0.0     132.0          0          0          1             657   \n",
       "1            0.0     126.0          0          0          1             656   \n",
       "2            7.0     135.0          0          0          1             655   \n",
       "3            0.0     129.0          0          0          1             662   \n",
       "4          113.0     137.0          0          0          1             760   \n",
       "\n",
       "   ARR_0_220_TIME  AIR_0_360_TIME  \n",
       "0             872             0.0  \n",
       "1             866             0.0  \n",
       "2             885             0.0  \n",
       "3             873             0.0  \n",
       "4             991             0.0  "
      ]
     },
     "execution_count": 3,
     "metadata": {},
     "output_type": "execute_result"
    }
   ],
   "source": [
    "data.head()"
   ]
  },
  {
   "cell_type": "markdown",
   "metadata": {},
   "source": [
    "Du fait du grand nombre de données il est impossible de réutiliser la méthode des dummies sur l'ensemble de notre dataset ni d'utiliser de régression polynomiale de degré 3. Nous allons donc comparer 2 approches :\n",
    "\n",
    "- Une régression linéaire avec mean encoding sur l'ensemble du dataset\n",
    "- Une régression polynomiale de degrée 2 avec mean encoding sur l'ensemble du dataset\n",
    "\n",
    "Ces deux valeurs seront celles que nous utiliserons comme baseline error dans notre notebook final."
   ]
  },
  {
   "cell_type": "code",
   "execution_count": 4,
   "metadata": {},
   "outputs": [],
   "source": [
    "xtrain, xtest, ytrain, ytest = train_test_split(data.loc[:, data.columns != 'ARR_DELAY_NEW'], data[[\"ARR_DELAY_NEW\"]], test_size=0.2, random_state=42)\n",
    "train = pd.merge(xtrain, ytrain, right_index=True, left_index=True)\n",
    "columns = data.loc[:, \"MONTH\":\"DAY_OF_WEEK\"].columns\n",
    "for column in columns:\n",
    "    items = train.groupby(column).mean()[\"ARR_DELAY_NEW\"].to_dict()\n",
    "    for key, value in items.items():\n",
    "        train.loc[train[column] == key, column] = value\n",
    "        xtest.loc[xtest[column] == key, column] = value\n",
    "xtrain = train.loc[:, train.columns != \"ARR_DELAY_NEW\"]\n",
    "ytrain = train[[\"ARR_DELAY_NEW\"]]"
   ]
  },
  {
   "cell_type": "code",
   "execution_count": 5,
   "metadata": {},
   "outputs": [],
   "source": [
    "test = pd.merge(xtest, ytest, right_index=True, left_index=True)\n",
    "pd.concat([test, train], ignore_index=True).to_csv(\"mean_encoding_data.csv\", columns=data.columns, encoding=\"utf-8\", index=False)"
   ]
  },
  {
   "cell_type": "code",
   "execution_count": 6,
   "metadata": {},
   "outputs": [
    {
     "name": "stdout",
     "output_type": "stream",
     "text": [
      "Mean squared error: 36.50\n"
     ]
    }
   ],
   "source": [
    "regr = LinearRegression()\n",
    "regr.fit(xtrain, ytrain)\n",
    "ypred = regr.predict(xtest)\n",
    "print(\"Mean squared error: %.2f\"% math.sqrt(mean_squared_error(ytest, ypred)))"
   ]
  },
  {
   "cell_type": "code",
   "execution_count": 7,
   "metadata": {},
   "outputs": [
    {
     "data": {
      "text/plain": [
       "36.30942244734323"
      ]
     },
     "execution_count": 7,
     "metadata": {},
     "output_type": "execute_result"
    }
   ],
   "source": [
    "model = make_pipeline(PolynomialFeatures(2), linear_model.Ridge())\n",
    "model.fit(xtrain, ytrain)\n",
    "math.sqrt(np.mean((model.predict(xtest) - ytest) ** 2).values[0])"
   ]
  },
  {
   "cell_type": "markdown",
   "metadata": {},
   "source": [
    "Nous utiliserons donc 36.5 et 36.3 comme valeurs de référence. Reste à voir s'il nous est possible d'obtenir de meilleurs résultats en utilisant un algorithme par compagnie aérienne."
   ]
  }
 ],
 "metadata": {
  "kernelspec": {
   "display_name": "Python 3",
   "language": "python",
   "name": "python3"
  },
  "language_info": {
   "codemirror_mode": {
    "name": "ipython",
    "version": 3
   },
   "file_extension": ".py",
   "mimetype": "text/x-python",
   "name": "python",
   "nbconvert_exporter": "python",
   "pygments_lexer": "ipython3",
   "version": "3.6.4"
  }
 },
 "nbformat": 4,
 "nbformat_minor": 2
}
